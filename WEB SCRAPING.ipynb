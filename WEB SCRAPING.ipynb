{
 "cells": [
  {
   "cell_type": "markdown",
   "id": "9b18a5b3",
   "metadata": {},
   "source": [
    "# <center>WEB SCRAPING</center>\n",
    "---"
   ]
  },
  {
   "cell_type": "markdown",
   "id": "1be16975-f261-48ae-9d43-4cb436724905",
   "metadata": {},
   "source": [
    "# BeautifulSoup "
   ]
  },
  {
   "cell_type": "markdown",
   "id": "d807063b-ea82-47f2-b334-02bcc5c4bef6",
   "metadata": {},
   "source": [
    "## Workflow\n",
    "* step1: import library -> `BeautifulSoup, requests`\n",
    "* step2: fetch the pages -> `requests.get(url:str)`\n",
    "* step3: page content -> `requests.get(url:str).text`\n",
    "* step4: create soup -> `BeautifulSoup(content, \"lxml\")`\n",
    "* step5: locate the element in soup ->"
   ]
  },
  {
   "cell_type": "markdown",
   "id": "5675618f-2fd7-4e23-98ce-ba908f56c119",
   "metadata": {},
   "source": [
    "1. **Import the libraries**"
   ]
  },
  {
   "cell_type": "code",
   "execution_count": 1,
   "id": "010e1d4f-c6a5-4650-870d-5367883b99c1",
   "metadata": {},
   "outputs": [],
   "source": [
    "# import libraries\n",
    "from bs4 import BeautifulSoup\n",
    "import requests"
   ]
  },
  {
   "cell_type": "markdown",
   "id": "c1958eba-e996-42b9-b7d1-73a9e8cb3ad1",
   "metadata": {},
   "source": [
    "2. **Send request to the website**"
   ]
  },
  {
   "cell_type": "code",
   "execution_count": 14,
   "id": "2f86874f-2650-4ceb-bb98-ceec1ec89313",
   "metadata": {},
   "outputs": [],
   "source": [
    "# website\n",
    "url = \"https://subslikescript.com/movie/Titanic-120338\"\n",
    "\n",
    "# send requests, get resonse as return\n",
    "result = requests.get(url)\n",
    "\n",
    "# store the resonse content\n",
    "content = result.text"
   ]
  },
  {
   "cell_type": "code",
   "execution_count": 15,
   "id": "62812945-cf06-4110-aed5-e79c1c58121f",
   "metadata": {},
   "outputs": [
    {
     "data": {
      "text/plain": [
       "(requests.models.Response, str)"
      ]
     },
     "execution_count": 15,
     "metadata": {},
     "output_type": "execute_result"
    }
   ],
   "source": [
    "type(result),type(content)"
   ]
  },
  {
   "cell_type": "code",
   "execution_count": 19,
   "id": "870fc6e6-ffdb-4b4c-a08a-b8f8a4a6568b",
   "metadata": {},
   "outputs": [
    {
     "data": {
      "text/plain": [
       "(<Response [200]>,\n",
       " '<!doctype html>\\n<html lang=\"en\" dir=\"ltr\">\\n<head>\\n\\t<!-- Global site tag (gtag.js) - Google Analytics -->\\n<script async src=\"https://www.googletagmanager.com/gtag/js?id=UA-120598793-1\"></script>\\n<script>\\n  window.dataLayer = window.dataLayer || [];\\n  function gtag(){dataLayer.push(arguments);}\\n  gtag')"
      ]
     },
     "execution_count": 19,
     "metadata": {},
     "output_type": "execute_result"
    }
   ],
   "source": [
    "result, content[:300]"
   ]
  },
  {
   "cell_type": "markdown",
   "id": "b24f0984-f5af-4866-9e42-8714023e23fd",
   "metadata": {},
   "source": [
    "3. **Create soup with parser: lxml**"
   ]
  },
  {
   "cell_type": "code",
   "execution_count": 20,
   "id": "83994d26-484c-400c-beb8-270d1a916cb0",
   "metadata": {},
   "outputs": [],
   "source": [
    "# create soup\n",
    "soup = BeautifulSoup(content,\"lxml\")"
   ]
  },
  {
   "cell_type": "code",
   "execution_count": 23,
   "id": "6eef0229-5451-4e37-a64f-7ad7b0170c5a",
   "metadata": {},
   "outputs": [
    {
     "data": {
      "text/plain": [
       "'<!DOCTYPE html>\\n<html dir=\"ltr\" lang=\"en\">\\n <head>\\n  <!-- Global site tag (gtag.js) - Google Analytics -->\\n  <script async=\"\" src=\"https://www.googletagmanager.com/gtag/js?id=UA-120598793-1\">\\n  </script>\\n  <script>\\n   window.dataLayer = window.dataLayer || [];\\n  function gtag(){dataLayer.push(argume'"
      ]
     },
     "execution_count": 23,
     "metadata": {},
     "output_type": "execute_result"
    }
   ],
   "source": [
    "# make the HTML code look prettier\n",
    "soup.prettify()[:300]"
   ]
  },
  {
   "cell_type": "markdown",
   "id": "6400ab67-a092-4c3b-8c82-2de9a3b0bb97",
   "metadata": {},
   "source": [
    "---"
   ]
  },
  {
   "cell_type": "markdown",
   "id": "f37f55f6-e8a8-4412-841f-ee9c4a052ea0",
   "metadata": {},
   "source": [
    "## Getting HTML of a Website"
   ]
  },
  {
   "cell_type": "code",
   "execution_count": 26,
   "id": "c92751ae-dedc-4d2b-b930-61f249747c9b",
   "metadata": {},
   "outputs": [
    {
     "data": {
      "text/plain": [
       "'<!DOCTYPE html>\\n<html dir=\"ltr\" lang=\"en\">\\n <head>\\n  <!-- Global site tag (gtag.js) - Google Analytics -->\\n  <script async=\"\" src=\"https://www.googletagmanager.com/gtag/js?id=UA-120598793-1\">\\n  </script>\\n  <script>\\n   window.dataLayer = window.dataLayer || [];\\n  function gtag(){dataLayer.push(arguments);}\\n  gtag(\\'js\\', new Date());\\n\\n  gtag(\\'config\\', \\'UA-120598793-1\\');\\n  </script>\\n  <meta charset=\"utf-8\"/>\\n  <title>\\n   Titanic (1997) Movie Script  | Subs like Script\\n  </title>\\n  <meta content=\"Rea'"
      ]
     },
     "execution_count": 26,
     "metadata": {},
     "output_type": "execute_result"
    }
   ],
   "source": [
    "# import library\n",
    "from bs4 import BeautifulSoup\n",
    "import requests\n",
    "\n",
    "# url of website\n",
    "url = \"https://subslikescript.com/movie/Titanic-120338\"\n",
    "\n",
    "# send request and store response in result\n",
    "result = requests.get(url)\n",
    "\n",
    "# html content\n",
    "content = result.text\n",
    "\n",
    "# create soup with parser: lxml\n",
    "soup = BeautifulSoup(content, \"lxml\")\n",
    "\n",
    "# make the HTML code look prettier\n",
    "soup.prettify()[:500]"
   ]
  },
  {
   "cell_type": "markdown",
   "id": "1ef339d2-cb24-440f-816b-2e9aa69f345f",
   "metadata": {},
   "source": [
    "---"
   ]
  },
  {
   "cell_type": "markdown",
   "id": "fec196a4-cb6c-40ae-9a20-ebecfd25f83f",
   "metadata": {},
   "source": [
    "## Single Page Web Scraping"
   ]
  },
  {
   "cell_type": "markdown",
   "id": "078ed7ef-d6a8-42ba-9de5-b03c56119147",
   "metadata": {},
   "source": [
    "### Find elements or access website content with:\n",
    "1. **ID**\n",
    "2. **Class Name**\n",
    "3. **Tag Name, CSS Selectors**\n",
    "4. **Xpath (XML Path)**"
   ]
  },
  {
   "cell_type": "code",
   "execution_count": 37,
   "id": "14ac5c2a-b06e-4ea8-b1d4-9da205e12712",
   "metadata": {},
   "outputs": [
    {
     "data": {
      "text/plain": [
       "bs4.element.Tag"
      ]
     },
     "execution_count": 37,
     "metadata": {},
     "output_type": "execute_result"
    }
   ],
   "source": [
    "# import library\n",
    "from bs4 import BeautifulSoup\n",
    "import requests\n",
    "\n",
    "# url of website\n",
    "url = \"https://subslikescript.com/movie/Titanic-120338\"\n",
    "\n",
    "# send request and store response in result\n",
    "result = requests.get(url)\n",
    "\n",
    "# html content\n",
    "content = result.text\n",
    "\n",
    "# create soup with parser: lxml\n",
    "soup = BeautifulSoup(content, \"lxml\")\n",
    "\n",
    "# make the HTML code look prettier\n",
    "soup.prettify()[:500]\n",
    "\n",
    "# access website content with the help of HTML tags & attributes\n",
    "#<article class=\"main-article\"> ... </article>, its the outmost structure inside body tag\n",
    "outer_box = soup.find(\"article\",class_ = \"main-article\")\n",
    "type(outer_box)"
   ]
  },
  {
   "cell_type": "markdown",
   "id": "3660a7f4-ff66-4826-907f-de54af4aaddb",
   "metadata": {},
   "source": [
    "**Get the Title**"
   ]
  },
  {
   "cell_type": "code",
   "execution_count": 47,
   "id": "7279dbdc-d2f1-4b09-83c6-48a03af3d4b2",
   "metadata": {},
   "outputs": [
    {
     "name": "stdout",
     "output_type": "stream",
     "text": [
      "<class 'bs4.element.Tag'>\n"
     ]
    }
   ],
   "source": [
    "print(type(soup.find(\"h1\")))"
   ]
  },
  {
   "cell_type": "code",
   "execution_count": 48,
   "id": "cb41ae9e-2505-4171-8f34-c279dce4b14e",
   "metadata": {},
   "outputs": [
    {
     "name": "stdout",
     "output_type": "stream",
     "text": [
      "<h1>Titanic (1997) - full transcript</h1>\n"
     ]
    }
   ],
   "source": [
    "print(soup.find(\"h1\"))"
   ]
  },
  {
   "cell_type": "code",
   "execution_count": 58,
   "id": "bf9714b1-70f5-4478-be27-75345386c3a6",
   "metadata": {},
   "outputs": [
    {
     "data": {
      "text/plain": [
       "'Titanic (1997) - full transcript'"
      ]
     },
     "execution_count": 58,
     "metadata": {},
     "output_type": "execute_result"
    }
   ],
   "source": [
    "# get the title\n",
    "title = soup.find(\"h1\").get_text()\n",
    "title"
   ]
  },
  {
   "cell_type": "code",
   "execution_count": 59,
   "id": "ff11866b-351a-4ba9-b403-4e0bce7c2872",
   "metadata": {},
   "outputs": [
    {
     "data": {
      "text/plain": [
       "'Titanic (1997) - full transcript'"
      ]
     },
     "execution_count": 59,
     "metadata": {},
     "output_type": "execute_result"
    }
   ],
   "source": [
    "title = outer_box.find(\"h1\").get_text()\n",
    "title"
   ]
  },
  {
   "cell_type": "code",
   "execution_count": 67,
   "id": "b676de54-5bc1-45b1-8eb7-a964c47ee407",
   "metadata": {},
   "outputs": [
    {
     "name": "stdout",
     "output_type": "stream",
     "text": [
      "13 meters. You should see it. Okay, take her up and over the bow rail. Mir 2, we're going over the bow.\n",
      "Stay with us. Okay, quiet. We're rolling. Seeing her coming out of the\n",
      "darkness like a ghost ship... ...still gets me every time. To see the sad ruin of the\n",
      "great ship sitting here... ...where she landed at\n",
      "2:30 in the morning Of April 15, 1912 ...after her long fall... ...from the world above. You are so full of shit, boss. Dive 6. Here we are again\n",
      "on the deck of Titanic. 2% miles down\n",
      "3,821\n"
     ]
    }
   ],
   "source": [
    "transcript = outer_box.find(\"div\",class_= \"full-script\").get_text(strip=True, separator=\" \")\n",
    "print(transcript[:500])"
   ]
  },
  {
   "cell_type": "markdown",
   "id": "d4487246-528f-4858-90d6-4a74d7d75ea2",
   "metadata": {},
   "source": [
    "### Export the scraped data"
   ]
  },
  {
   "cell_type": "code",
   "execution_count": 68,
   "id": "670f766f-d580-47c8-a4dd-e7ce5730a205",
   "metadata": {},
   "outputs": [
    {
     "name": "stdout",
     "output_type": "stream",
     "text": [
      "\u001b[1m\u001b[36mBEAUTIFULSOUP\u001b[m\u001b[m      README.md          \u001b[1m\u001b[36mhtml\u001b[m\u001b[m               \u001b[1m\u001b[36mscrapy\u001b[m\u001b[m\n",
      "\u001b[1m\u001b[36mPython\u001b[m\u001b[m             WEB SCRAPING.ipynb \u001b[1m\u001b[36mimages\u001b[m\u001b[m\n"
     ]
    }
   ],
   "source": [
    "!ls"
   ]
  },
  {
   "cell_type": "code",
   "execution_count": 70,
   "id": "eb4e348e-bfbb-4e32-96b2-978481106c17",
   "metadata": {},
   "outputs": [],
   "source": [
    "# creating a file to store the scraped data and store it in .txt file\n",
    "\n",
    "with open(f\"{title}.txt\", \"w\") as file:\n",
    "    file.write(transcript)"
   ]
  },
  {
   "cell_type": "code",
   "execution_count": 71,
   "id": "4e7a3d97-09c4-4fa2-873f-0608852658f1",
   "metadata": {},
   "outputs": [
    {
     "name": "stdout",
     "output_type": "stream",
     "text": [
      "\u001b[1m\u001b[36mBEAUTIFULSOUP\u001b[m\u001b[m                        WEB SCRAPING.ipynb\n",
      "\u001b[1m\u001b[36mPython\u001b[m\u001b[m                               \u001b[1m\u001b[36mhtml\u001b[m\u001b[m\n",
      "README.md                            \u001b[1m\u001b[36mimages\u001b[m\u001b[m\n",
      "Titanic (1997) - full transcript.txt \u001b[1m\u001b[36mscrapy\u001b[m\u001b[m\n"
     ]
    }
   ],
   "source": [
    "!ls"
   ]
  },
  {
   "cell_type": "code",
   "execution_count": 74,
   "id": "fdb80279-a5d5-423a-ab5c-b608ac751018",
   "metadata": {},
   "outputs": [
    {
     "name": "stdout",
     "output_type": "stream",
     "text": [
      "13 meters. You should see it. Okay, take her up and over the bow rail. Mir 2, we're going over the bow.\n",
      "Stay with us. Okay, quiet. We're rolling. Seeing her coming out of the\n",
      "darkness like a ghost ship... ...still gets me every time. To see the sad ruin of the\n",
      "great ship sitting here... ...where she landed at\n",
      "2:30 in the morning Of April 15, 1912 ...after her long fall... ...from the world above. You are so full of shit, boss. Dive 6. Here we are again\n",
      "on the deck of Titanic. 2% miles down\n",
      "3,821 meters- The pressure outside is 3% tons per square inch These windows are\n",
      "9 inches thick. If they go, it's sayonara in two microseconds. All right, enough of that bullshit. Just put her down on the roof of\n",
      "the officers' quarters like yesterday. Mir 2, we're landing right over the\n",
      "Grand Staircase. You guys set to launch? Yeah, Brock. Launching Dunkin now.\n"
     ]
    }
   ],
   "source": [
    "!head \"Titanic (1997) - full transcript.txt\""
   ]
  },
  {
   "cell_type": "markdown",
   "id": "1675d937-dc0e-49e8-91d4-b8c4d11aad1a",
   "metadata": {},
   "source": [
    "## Multiple Page Web Scraping"
   ]
  },
  {
   "cell_type": "code",
   "execution_count": null,
   "id": "b60d8d9a-f605-4a89-a035-6b9e680090fc",
   "metadata": {},
   "outputs": [],
   "source": []
  }
 ],
 "metadata": {
  "kernelspec": {
   "display_name": "Python 3 (ipykernel)",
   "language": "python",
   "name": "python3"
  },
  "language_info": {
   "codemirror_mode": {
    "name": "ipython",
    "version": 3
   },
   "file_extension": ".py",
   "mimetype": "text/x-python",
   "name": "python",
   "nbconvert_exporter": "python",
   "pygments_lexer": "ipython3",
   "version": "3.11.1"
  },
  "toc-autonumbering": false,
  "toc-showmarkdowntxt": false,
  "toc-showtags": false,
  "vscode": {
   "interpreter": {
    "hash": "aee8b7b246df8f9039afb4144a1f6fd8d2ca17a180786b69acc140d282b71a49"
   }
  }
 },
 "nbformat": 4,
 "nbformat_minor": 5
}
