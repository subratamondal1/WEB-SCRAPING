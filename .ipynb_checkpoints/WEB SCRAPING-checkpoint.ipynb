{
 "cells": [
  {
   "cell_type": "markdown",
   "id": "9b18a5b3",
   "metadata": {},
   "source": [
    "# <center>WEB SCRAPING</center>"
   ]
  },
  {
   "cell_type": "markdown",
   "id": "9ec7a898",
   "metadata": {},
   "source": [
    "# XPATH : `XML PATH`\n",
    "---"
   ]
  },
  {
   "attachments": {},
   "cell_type": "markdown",
   "id": "ff825aae",
   "metadata": {},
   "source": [
    "XPath is an **expression language** that is used to query and transform XML documents. It was defined by the World Wide Web Consortium and can be used to compute values from the content of an XML document too.\n",
    "\n",
    "* The XML Path Language (XPath) is used to uniquely identify or address parts of an XML document. \n",
    "* **An XPath expression can be used to search through an XML document, website.** \n",
    "* **An XPath expression can be used to extract information from any part of the document**, such as an element or attribute (referred to as a node in XML) in it.\n",
    "* **An XPath expression depends on other locators like id, class, etc.**"
   ]
  },
  {
   "cell_type": "markdown",
   "id": "24cc84dd",
   "metadata": {},
   "source": [
    "<img src=\"images/xpath.png\"/>"
   ]
  },
  {
   "cell_type": "markdown",
   "id": "eb19ea5d",
   "metadata": {},
   "source": [
    "## Two types of Path : `ABSOLUTE & RELATIVE`"
   ]
  },
  {
   "cell_type": "markdown",
   "id": "66dfd46e",
   "metadata": {},
   "source": [
    "## Example 1: `list of elements`- not unique `//div[@class=\"_4rR01T\"]`\n",
    "`Relative Path`"
   ]
  },
  {
   "cell_type": "markdown",
   "id": "5f0ca94d",
   "metadata": {},
   "source": [
    "<img src=\"images/eg1.png\"/>"
   ]
  },
  {
   "cell_type": "markdown",
   "id": "3fcc26f2",
   "metadata": {},
   "source": [
    "## Example 1 : `list of an element`- unique `(//div[@class=\"_4rR01T\"])[1]`\n",
    "`Relative Path`"
   ]
  },
  {
   "cell_type": "markdown",
   "id": "e56fbbb2",
   "metadata": {},
   "source": [
    "<img src=\"images/eg2.png\"/>"
   ]
  },
  {
   "cell_type": "markdown",
   "id": "ba87149f",
   "metadata": {},
   "source": [
    "## Example 3 `Relative Path`\n",
    "`Relative Path`"
   ]
  },
  {
   "cell_type": "markdown",
   "id": "8510b59f",
   "metadata": {},
   "source": [
    "<img src=\"images/eg3.png\"/>"
   ]
  },
  {
   "cell_type": "markdown",
   "id": "abfc63ce",
   "metadata": {},
   "source": [
    "### `Absolute Path`"
   ]
  },
  {
   "cell_type": "markdown",
   "id": "172c7276",
   "metadata": {},
   "source": [
    "<img src=\"images/abs.png\"/>"
   ]
  },
  {
   "cell_type": "markdown",
   "id": "777dca2e",
   "metadata": {},
   "source": [
    "<img src=\"images/eg4.png\"/>"
   ]
  },
  {
   "cell_type": "markdown",
   "id": "9c6f5e17",
   "metadata": {},
   "source": [
    "<img src=\"images/eg5.png\"/>"
   ]
  },
  {
   "cell_type": "markdown",
   "id": "6a3d4d72",
   "metadata": {},
   "source": [
    "<img src=\"images/eg6.png\"/>"
   ]
  },
  {
   "cell_type": "markdown",
   "id": "f300133a",
   "metadata": {},
   "source": [
    "<img src=\"images/eg7.png\"/>"
   ]
  },
  {
   "cell_type": "code",
   "execution_count": null,
   "id": "9ec209f4",
   "metadata": {},
   "outputs": [],
   "source": []
  }
 ],
 "metadata": {
  "kernelspec": {
   "display_name": "Python 3",
   "language": "python",
   "name": "python3"
  },
  "language_info": {
   "codemirror_mode": {
    "name": "ipython",
    "version": 3
   },
   "file_extension": ".py",
   "mimetype": "text/x-python",
   "name": "python",
   "nbconvert_exporter": "python",
   "pygments_lexer": "ipython3",
   "version": "3.11.1 (v3.11.1:a7a450f84a, Dec  6 2022, 15:24:06) [Clang 13.0.0 (clang-1300.0.29.30)]"
  },
  "vscode": {
   "interpreter": {
    "hash": "aee8b7b246df8f9039afb4144a1f6fd8d2ca17a180786b69acc140d282b71a49"
   }
  }
 },
 "nbformat": 4,
 "nbformat_minor": 5
}
